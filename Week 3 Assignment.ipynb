{
 "cells": [
  {
   "cell_type": "code",
   "execution_count": 1,
   "id": "0c9c0e0c-ab10-4aa6-8c68-99ec3c9804ba",
   "metadata": {},
   "outputs": [
    {
     "name": "stderr",
     "output_type": "stream",
     "text": [
      "C:\\Users\\parvs\\AppData\\Local\\Packages\\PythonSoftwareFoundation.Python.3.11_qbz5n2kfra8p0\\LocalCache\\local-packages\\Python311\\site-packages\\torch\\utils\\_pytree.py:185: FutureWarning: optree is installed but the version is too old to support PyTorch Dynamo in C++ pytree. C++ pytree support is disabled. Please consider upgrading optree using `python3 -m pip install --upgrade 'optree>=0.13.0'`.\n",
      "  warnings.warn(\n"
     ]
    }
   ],
   "source": [
    "import pickle\n",
    "import torch\n",
    "import torchvision\n",
    "from torchvision import transforms,datasets\n",
    "import torch.nn as nn\n",
    "import torch.nn.functional as F"
   ]
  },
  {
   "cell_type": "code",
   "execution_count": null,
   "id": "88835523-0fa9-4df9-a3ca-fce581db4740",
   "metadata": {},
   "outputs": [],
   "source": [
    "with open (r\"D:\\wids '23\\Winter-Projects-of-Machine-Learning\\MNIST_data.pkl\",'rb') as file:\n",
    "    data=dict(pickle.load(file))\n",
    "    #print(type(data))\n",
    "    \n",
    "    X=data.get('X')\n",
    "    y=data.get('y')\n",
    "    #print(type(X),len(X),X.shape)\n",
    "    #print(type(y),len(y),y.shape)\n",
    "#print(\"file read\")\n",
    "\n",
    "batch_size = 10\n",
    "start = 0\n",
    "end = batch_size\n",
    "y = y.reshape(-1)\n",
    "\n",
    "training_set = X[0:int(0.8*len(X))]\n",
    "train_y = y[0:int(0.8*len(X))]\n",
    "test_set = X[int(0.8*len(X)):]\n",
    "test_y = y[int(0.8*len(X)):]\n",
    "\n",
    "i = int(len(training_set)/batch_size)\n",
    "\n",
    "class Net(nn.Module):\n",
    "    def __init__(self):\n",
    "        super().__init__()\n",
    "        self.fc1 = nn.Linear(28*28, 64)\n",
    "        self.fc2 = nn.Linear(64, 64)\n",
    "        self.fc3 = nn.Linear(64, 64)\n",
    "        self.fc4 = nn.Linear(64, 10)\n",
    "\n",
    "    def forward(self, x):\n",
    "        x = F.relu(self.fc1(x))\n",
    "        x = F.relu(self.fc2(x))\n",
    "        x = F.relu(self.fc3(x))\n",
    "        x = self.fc4(x)\n",
    "        return F.log_softmax(x, dim=1)\n",
    "\n",
    "net = Net()\n",
    "#print(type(training_set))\n",
    "#print(net)"
   ]
  },
  {
   "cell_type": "code",
   "execution_count": 4,
   "id": "90e58618-6a68-4255-887f-23ea2e3920cc",
   "metadata": {},
   "outputs": [
    {
     "name": "stdout",
     "output_type": "stream",
     "text": [
      "Loss:  tensor(0.0726, grad_fn=<NllLossBackward0>)\n",
      "Loss:  tensor(0.0535, grad_fn=<NllLossBackward0>)\n",
      "Loss:  tensor(0.0076, grad_fn=<NllLossBackward0>)\n"
     ]
    }
   ],
   "source": [
    "import torch.optim as optim\n",
    "\n",
    "optimizer = optim.Adam(net.parameters(), lr = 0.0003)\n",
    "\n",
    "EPOCHS = 3\n",
    "k = 0\n",
    "\n",
    "for epoch in range(EPOCHS):\n",
    "    k = 0\n",
    "    c = False\n",
    "    start=0\n",
    "    end=batch_size\n",
    "    while (k<i):\n",
    "        featureset = torch.from_numpy(training_set[start:end])\n",
    "        featureset = featureset.to(torch.float)\n",
    "        label = torch.from_numpy(train_y[start:end])\n",
    "        net.zero_grad()\n",
    "        output = net(featureset)\n",
    "        loss = F.nll_loss(output, label)\n",
    "        loss.backward()\n",
    "        optimizer.step()\n",
    "        start += batch_size\n",
    "        end += batch_size\n",
    "        k += 1\n",
    "    print(\"Loss: \", loss)"
   ]
  },
  {
   "cell_type": "code",
   "execution_count": 5,
   "id": "026df046-c36e-4f99-9d24-b5790214f9a0",
   "metadata": {},
   "outputs": [
    {
     "name": "stdout",
     "output_type": "stream",
     "text": [
      "Accuracy 94.39166666666667\n"
     ]
    }
   ],
   "source": [
    "correct = 0\n",
    "total = 0\n",
    "with torch.no_grad():\n",
    "    for w in range(len(X) - int(0.8*len(X))):\n",
    "        input=torch.from_numpy(test_set[w])\n",
    "        output=test_y[w]\n",
    "        ip=input.to(torch.float)\n",
    "        op=net(ip.view(-1,28*28))\n",
    "        if (torch.argmax(op).eq(output)):\n",
    "            correct+=1\n",
    "        total+=1\n",
    "\n",
    "\n",
    "print(\"Accuracy\", 100*correct/total)"
   ]
  },
  {
   "cell_type": "code",
   "execution_count": null,
   "id": "a37f4ab9-2f98-41ae-a7d8-120ca894b5c4",
   "metadata": {},
   "outputs": [],
   "source": []
  }
 ],
 "metadata": {
  "kernelspec": {
   "display_name": "Python 3",
   "language": "python",
   "name": "python3"
  },
  "language_info": {
   "codemirror_mode": {
    "name": "ipython",
    "version": 3
   },
   "file_extension": ".py",
   "mimetype": "text/x-python",
   "name": "python",
   "nbconvert_exporter": "python",
   "pygments_lexer": "ipython3",
   "version": "3.11.9"
  }
 },
 "nbformat": 4,
 "nbformat_minor": 5
}
